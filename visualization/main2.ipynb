{
 "cells": [
  {
   "cell_type": "code",
   "execution_count": null,
   "metadata": {},
   "outputs": [],
   "source": [
    "import sys, os\n",
    "import numpy as np\n",
    "import plotly.graph_objects as go\n",
    "import plotly.express as px\n",
    "# Util function for loading meshes\n",
    "from pytorch3d.io import load_objs_as_meshes, load_ply\n",
    "\n",
    "# Data structures and functions for rendering\n",
    "from pytorch3d.structures import Meshes"
   ]
  },
  {
   "cell_type": "code",
   "execution_count": null,
   "metadata": {},
   "outputs": [],
   "source": [
    "def verts_to_pts(verts):\n",
    "    x = verts[:,0].numpy()\n",
    "    y = verts[:,1].numpy()\n",
    "    z = verts[:,2].numpy()\n",
    "    return x,y,z\n",
    "\n",
    "def get_min_max(data):\n",
    "    data = data\n",
    "    min_data = np.amin(data.flatten())\n",
    "    max_data = np.amax(data.flatten())\n",
    "    return min_data, max_data\n",
    "\n",
    "def interpolate(data, degree):\n",
    "    inter_data = []\n",
    "    for k in range(data.shape[0]-1):\n",
    "        for i in range(degree):\n",
    "            inter_data.append(data[k, :] + (i/degree) * (data[k+1, :] - data[k, :]))\n",
    "    inter_data.append(data[k+1, :])\n",
    "    return np.stack(inter_data)"
   ]
  },
  {
   "cell_type": "code",
   "execution_count": null,
   "metadata": {},
   "outputs": [],
   "source": [
    "# Set paths\n",
    "DATA_DIR = \"experiments/viz2\"\n",
    "CWD_PATH = os.path.dirname(os.path.abspath(os.getcwd()))\n",
    "DATA_PATH = os.path.join(CWD_PATH, DATA_DIR)\n",
    "\n",
    "files = []\n",
    "files_number = np.array([])\n",
    "files_order = np.array([])\n",
    "\n",
    "for ply_file in os.listdir(DATA_PATH):\n",
    "    files.append(ply_file)\n",
    "    num = ''\n",
    "    for c in ply_file:\n",
    "        if c.isdigit():\n",
    "            num = num + c\n",
    "    num = num[5:-1]\n",
    "    files_number = np.append(files_number, int(num))\n",
    "files_order = np.argsort(files_number)\n",
    "print(files_order)\n",
    "print(type(files_order))"
   ]
  },
  {
   "cell_type": "code",
   "execution_count": null,
   "metadata": {},
   "outputs": [],
   "source": [
    "x = []\n",
    "y = []\n",
    "z = []\n",
    "\n",
    "for _, ordered_Index in enumerate(files_order): \n",
    "    ply_file = files[ordered_Index]   \n",
    "    print(\"Load File \", ply_file)\n",
    "    verts, faces = load_ply(os.path.join(DATA_PATH, ply_file))\n",
    "    x_temp, y_temp, z_temp = verts_to_pts(verts)\n",
    "    x.append(x_temp)\n",
    "    y.append(y_temp)\n",
    "    z.append(z_temp)"
   ]
  },
  {
   "cell_type": "code",
   "execution_count": null,
   "metadata": {},
   "outputs": [],
   "source": [
    "x = np.stack(x)\n",
    "y = np.stack(y)\n",
    "z = np.stack(z)\n",
    "\n",
    "inter_degree = 10\n",
    "x = interpolate(x, inter_degree)\n",
    "y = interpolate(y, inter_degree)\n",
    "z = interpolate(z, inter_degree)\n",
    "\n",
    "xm, xM = get_min_max(x)\n",
    "ym, yM = get_min_max(y)\n",
    "zm, zM = get_min_max(z)"
   ]
  },
  {
   "cell_type": "code",
   "execution_count": null,
   "metadata": {},
   "outputs": [],
   "source": [
    "nth = 3\n",
    "fig = go.Figure(data=go.Scatter3d(x=x[0,::nth], y=y[0,::nth], z=z[0,::nth],\n",
    "                mode='markers',\n",
    "                marker=dict(size=0.5)),\n",
    "    layout=go.Layout(scene=dict(\n",
    "                     xaxis=dict(range=[xm, xM], autorange=False, zeroline=False),\n",
    "                     yaxis=dict(range=[ym, yM], autorange=False, zeroline=False),\n",
    "                     zaxis=dict(range=[zm, zM], autorange=False, zeroline=False)),\n",
    "                     scene_aspectmode='cube',\n",
    "                     width=600, height=600,\n",
    "                    updatemenus=[dict(type=\"buttons\",\n",
    "                                                buttons=[dict(label=\"Play\",\n",
    "                                                                method=\"animate\",\n",
    "                                                                args=[None, {\"frame\": {\"duration\": 80},}])])]),\n",
    "    frames=[go.Frame(data=go.Scatter3d(x=x[k, ::nth], y=y[k, ::nth], z=z[k, ::nth],\n",
    "                mode='markers',\n",
    "                marker=dict(size=0.5))) for k in range(x.shape[0])]\n",
    ")\n",
    "\n",
    "# fig = go.Figure(data=[go.Mesh3d(x=x, y=y, z=z,\n",
    "#                   alphahull=5,\n",
    "#                   opacity=0.4,\n",
    "#                  color='cyan')])\n"
   ]
  },
  {
   "cell_type": "code",
   "execution_count": null,
   "metadata": {},
   "outputs": [],
   "source": [
    "fig.show(validate=False)"
   ]
  }
 ],
 "metadata": {
  "kernelspec": {
   "display_name": "Python 3.9.12 ('vox2organ')",
   "language": "python",
   "name": "python3"
  },
  "language_info": {
   "codemirror_mode": {
    "name": "ipython",
    "version": 3
   },
   "file_extension": ".py",
   "mimetype": "text/x-python",
   "name": "python",
   "nbconvert_exporter": "python",
   "pygments_lexer": "ipython3",
   "version": "3.9.12"
  },
  "orig_nbformat": 4,
  "vscode": {
   "interpreter": {
    "hash": "f09a1e5c7c1aec7956c97b2f9081d62b94bf96ad96e18c6df9ff9a73520fa914"
   }
  }
 },
 "nbformat": 4,
 "nbformat_minor": 2
}
